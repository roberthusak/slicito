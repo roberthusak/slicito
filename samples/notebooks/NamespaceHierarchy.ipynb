{
 "cells": [
  {
   "cell_type": "code",
   "execution_count": 1,
   "metadata": {
    "dotnet_interactive": {
     "language": "csharp"
    }
   },
   "outputs": [
    {
     "data": {
      "text/html": [
       "<div><div></div><div></div><div><strong>Installed Packages</strong><ul><li><span>AutomaticGraphLayout, 1.1.12</span></li><li><span>AutomaticGraphLayout.Drawing, 1.1.12</span></li><li><span>Microsoft.AspNetCore.Html.Abstractions, 2.2.0</span></li><li><span>Microsoft.AspNetCore.WebUtilities, 2.2.0</span></li><li><span>Microsoft.Build.Locator, 1.5.5</span></li><li><span>Microsoft.CodeAnalysis.Workspaces.MSBuild, 4.4.0</span></li><li><span>System.Drawing.Common, 7.0.0</span></li></ul></div></div>"
      ]
     },
     "metadata": {},
     "output_type": "display_data"
    }
   ],
   "source": [
    "// In order to execute, compile Slicito.csproj first and then run the following code\n",
    "// (this process will be simplified after Slicito is turned into a NuGet package)\n",
    "#r \"nuget: AutomaticGraphLayout\"\n",
    "#r \"nuget: AutomaticGraphLayout.Drawing\"\n",
    "#r \"nuget: Microsoft.AspNetCore.Html.Abstractions\"\n",
    "#r \"nuget: Microsoft.AspNetCore.WebUtilities\"\n",
    "#r \"nuget: Microsoft.Build.Locator\"\n",
    "#r \"nuget: Microsoft.CodeAnalysis.Workspaces.MSBuild, 4.4.0\"\n",
    "#r \"nuget: System.Drawing.Common\"\n",
    "#r \"..\\..\\src\\Slicito\\bin\\Debug\\net6.0\\Slicito.dll\"\n",
    "\n",
    "#nullable enable\n",
    "\n",
    "using Slicito.DotNet;\n",
    "\n",
    "var kernelExtension = new Slicito.Interactive.SlicitoKernelExtension();\n",
    "await kernelExtension.OnLoadAsync(Microsoft.DotNet.Interactive.Kernel.Root);\n",
    "\n",
    "var globalContext = await new DotNetContext.Builder()\n",
    "    .AddProject(@\"..\\..\\src\\Slicito\\Slicito.csproj\")\n",
    "    .BuildAsync();\n",
    "\n",
    "var dependencyRelations = globalContext.ExtractDependencyRelations();"
   ]
  },
  {
   "cell_type": "code",
   "execution_count": 3,
   "metadata": {
    "dotnet_interactive": {
     "language": "csharp"
    },
    "polyglot_notebook": {
     "kernelName": "csharp"
    }
   },
   "outputs": [
    {
     "data": {
      "text/html": [
       "<div class='slicito-site' id='slicito-site-c13e85f8-dc9f-4a38-8c74-8179e1447852'>\r\n",
       "<button class='slicito-site-back' style='display:none' onclick='window.slicito.showPreviousSiteContent(\"c13e85f8-dc9f-4a38-8c74-8179e1447852\")'>Back</button>\r\n",
       "<div class='slicito-site-content' id='slicito-site-content-c13e85f8-dc9f-4a38-8c74-8179e1447852'>\r\n",
       "<?xml version=\"1.0\" encoding=\"utf-16\"?>\r\n",
       "<!--SvgWriter version 1.0.0.0-->\r\n",
       "<svg xmlns:xlink=\"http://www.w3.org/1999/xlink\" width=\"340.47652816773\" height=\"258.65622711182\" id=\"svg2\" version=\"1.1\" xmlns=\"http://www.w3.org/2000/svg\">\r\n",
       "  <g transform=\"translate(-0,258.6562271118164)\">\r\n",
       "    <!--subgraphs-->\r\n",
       "    <a xlink:href=\"#af971fde-e060-42ae-b0e0-3d142b57d1bd\">\r\n",
       "      <rect fill=\"none\" stroke=\"#000000\" stroke-opacity=\"1\" stroke-width=\"1\" x=\"158.16535186768\" y=\"-63.1093711853\" width=\"77.22394561768\" height=\"23.1093711853\" rx=\"3\" ry=\"3\" />\r\n",
       "      <text x=\"159.66535186768\" y=\"-43.35156186422\" font-family=\"Arial\" font-size=\"16\" fill=\"#000000\">\r\n",
       "        <tspan x=\"159.66535186768\" dy=\"0\">Relations</tspan>\r\n",
       "      </text>\r\n",
       "    </a>\r\n",
       "    <a xlink:href=\"#7c08be24-7c36-434a-86f0-cd1426a8f284\">\r\n",
       "      <rect fill=\"none\" stroke=\"#000000\" stroke-opacity=\"1\" stroke-width=\"1\" x=\"147.22394561768\" y=\"-96.21874237061\" width=\"99.10675811768\" height=\"66.21874237061\" rx=\"3\" ry=\"3\" />\r\n",
       "      <text x=\"148.72394561768\" y=\"-76.46093304952\" font-family=\"Arial\" font-size=\"16\" fill=\"#000000\">\r\n",
       "        <tspan x=\"148.72394561768\" dy=\"0\">Abstractions</tspan>\r\n",
       "      </text>\r\n",
       "    </a>\r\n",
       "    <a xlink:href=\"#a31a9a70-e327-44b8-9ffa-41ec2b429e6d\">\r\n",
       "      <rect fill=\"none\" stroke=\"#000000\" stroke-opacity=\"1\" stroke-width=\"1\" x=\"40\" y=\"-63.1093711853\" width=\"77.12238311768\" height=\"23.1093711853\" rx=\"3\" ry=\"3\" />\r\n",
       "      <text x=\"41.5\" y=\"-43.35156186422\" font-family=\"Arial\" font-size=\"16\" fill=\"#000000\">\r\n",
       "        <tspan x=\"41.5\" dy=\"0\">Elements</tspan>\r\n",
       "      </text>\r\n",
       "    </a>\r\n",
       "    <a xlink:href=\"#80cf96dd-af92-481a-a8f5-5159a0884f37\">\r\n",
       "      <rect fill=\"none\" stroke=\"#000000\" stroke-opacity=\"1\" stroke-width=\"1\" x=\"40\" y=\"-106.21874237061\" width=\"77.22394561768\" height=\"23.1093711853\" rx=\"3\" ry=\"3\" />\r\n",
       "      <text x=\"41.5\" y=\"-86.46093304952\" font-family=\"Arial\" font-size=\"16\" fill=\"#000000\">\r\n",
       "        <tspan x=\"41.5\" dy=\"0\">Relations</tspan>\r\n",
       "      </text>\r\n",
       "    </a>\r\n",
       "    <a xlink:href=\"#67192603-b0a8-4cdb-b6e2-09b683236ae4\">\r\n",
       "      <rect fill=\"none\" stroke=\"#000000\" stroke-opacity=\"1\" stroke-width=\"1\" x=\"30\" y=\"-139.32811355591\" width=\"97.22394561768\" height=\"109.32811355591\" rx=\"3\" ry=\"3\" />\r\n",
       "      <text x=\"50.30468559265\" y=\"-119.57030423482\" font-family=\"Arial\" font-size=\"16\" fill=\"#000000\">\r\n",
       "        <tspan x=\"50.30468559265\" dy=\"0\">DotNet</tspan>\r\n",
       "      </text>\r\n",
       "    </a>\r\n",
       "    <a xlink:href=\"#1df0848d-37ce-4177-a4c8-d76ad5d4cea9\">\r\n",
       "      <rect fill=\"none\" stroke=\"#000000\" stroke-opacity=\"1\" stroke-width=\"1\" x=\"226.02602005005\" y=\"-139.32811355591\" width=\"84.45050811768\" height=\"23.1093711853\" rx=\"3\" ry=\"3\" />\r\n",
       "      <text x=\"227.52602005005\" y=\"-119.57030423482\" font-family=\"Arial\" font-size=\"16\" fill=\"#000000\">\r\n",
       "        <tspan x=\"227.52602005005\" dy=\"0\">Interactive</tspan>\r\n",
       "      </text>\r\n",
       "    </a>\r\n",
       "    <a xlink:href=\"#be7c37f8-330f-463a-9c10-733e3cecad7a\">\r\n",
       "      <rect fill=\"none\" stroke=\"#000000\" stroke-opacity=\"1\" stroke-width=\"1\" x=\"30\" y=\"-182.43748474121\" width=\"100.95050811768\" height=\"23.1093711853\" rx=\"3\" ry=\"3\" />\r\n",
       "      <text x=\"31.5\" y=\"-162.67967542013\" font-family=\"Arial\" font-size=\"16\" fill=\"#000000\">\r\n",
       "        <tspan x=\"31.5\" dy=\"0\">Presentation</tspan>\r\n",
       "      </text>\r\n",
       "    </a>\r\n",
       "    <a xlink:href=\"#97ea364c-9304-4577-a8b5-cc766d70d415\">\r\n",
       "      <rect fill=\"none\" stroke=\"#000000\" stroke-opacity=\"1\" stroke-width=\"1\" x=\"147.22394561768\" y=\"-139.32811355591\" width=\"58.80207443237\" height=\"23.1093711853\" rx=\"3\" ry=\"3\" />\r\n",
       "      <text x=\"148.72394561768\" y=\"-119.57030423482\" font-family=\"Arial\" font-size=\"16\" fill=\"#000000\">\r\n",
       "        <tspan x=\"148.72394561768\" dy=\"0\">Roslyn</tspan>\r\n",
       "      </text>\r\n",
       "    </a>\r\n",
       "    <a xlink:href=\"#611e20b9-e80c-420b-9673-150768836840\">\r\n",
       "      <rect fill=\"none\" stroke=\"#000000\" stroke-opacity=\"1\" stroke-width=\"1\" x=\"20\" y=\"-215.54685592651\" width=\"300.47652816773\" height=\"195.54685592651\" rx=\"3\" ry=\"3\" />\r\n",
       "      <text x=\"145.44660186768\" y=\"-195.78904660543\" font-family=\"Arial\" font-size=\"16\" fill=\"#000000\">\r\n",
       "        <tspan x=\"145.44660186768\" dy=\"0\">Slicito</tspan>\r\n",
       "      </text>\r\n",
       "    </a>\r\n",
       "    <a xlink:href=\"#4047006e-5c1a-4829-8040-adbfc4d5b2e1\">\r\n",
       "      <rect fill=\"none\" stroke=\"#000000\" stroke-opacity=\"1\" stroke-width=\"1\" x=\"10\" y=\"-248.65622711182\" width=\"320.47652816773\" height=\"238.65622711182\" rx=\"3\" ry=\"3\" />\r\n",
       "      <text x=\"121.13019752502\" y=\"-228.89841779073\" font-family=\"Arial\" font-size=\"16\" fill=\"#000000\">\r\n",
       "        <tspan x=\"121.13019752502\" dy=\"0\">Slicito.csproj</tspan>\r\n",
       "      </text>\r\n",
       "    </a>\r\n",
       "    <!--end of subgraphs-->\r\n",
       "    <!--Edges-->\r\n",
       "    <!--nodes-->\r\n",
       "    <!--end of nodes-->\r\n",
       "  </g>\r\n",
       "</svg></div>\r\n",
       "</div>\r\n",
       "<script type=\"text/javascript\">\r\n",
       "(function () {\n",
       "\n",
       "    if (!window.slicito) {\n",
       "\n",
       "        // Associative array from site GUID to its state\n",
       "        let siteStates = {};\n",
       "\n",
       "        let getOrCreateSiteState = function (siteGuid) {\n",
       "            let siteState = siteStates[siteGuid];\n",
       "            if (!siteState) {\n",
       "                siteState = {\n",
       "                    history: []\n",
       "                };\n",
       "\n",
       "                siteStates[siteGuid] = siteState;\r\n",
       "            }\n",
       "\n",
       "            return siteState;\r\n",
       "        }\n",
       "\n",
       "        let getSiteElement = function (siteGuid) {\n",
       "            return document.getElementById(\"slicito-site-\" + siteGuid);\r\n",
       "        };\n",
       "\n",
       "        let getBackButtonElement = function (siteGuid) {\n",
       "            let siteElement = getSiteElement(siteGuid);\n",
       "\n",
       "            return siteElement.getElementsByClassName(\"slicito-site-back\")[0];\r\n",
       "        }\n",
       "\n",
       "        let getContentElement = function (siteGuid) {\n",
       "            return document.getElementById(\"slicito-site-content-\" + siteGuid);\r\n",
       "        };\n",
       "\r\n",
       "        let extractLinkHref = function (a) {\r\n",
       "            if (a.href instanceof String) {\r\n",
       "                return a.href;\r\n",
       "            } else {\r\n",
       "                return a.href.baseVal;  // SVGAnimatedString\r\n",
       "            }\r\n",
       "        };\n",
       "\n",
       "        window.slicito = {\n",
       "\n",
       "            forwardLinksToDotNet: function (siteGuid) {\n",
       "                let siteContentElement = getContentElement(siteGuid);\n",
       "\n",
       "                let linkElements = siteContentElement.getElementsByTagName(\"a\");\r\n",
       "                for (let j = 0; j < linkElements.length; j++) {\r\n",
       "                    let linkElement = linkElements[j];\r\n",
       "                    let href = extractLinkHref(linkElement);\r\n",
       "\r\n",
       "                    let destinationGuid = href.replace(\"#\", \"\");\r\n",
       "\r\n",
       "                    linkElement.addEventListener(\"click\", function () {\n",
       "                        let jsKernel = kernel.root.findKernelByName(\"javascript\");\n",
       "\n",
       "                        // We must send the command to .NET kernel in the context of a JavaScript command, otherwise it gets stuck\n",
       "                        jsKernel.send({\n",
       "                            commandType: 'SubmitCode',\n",
       "                            command: {\n",
       "                                code: 'window.slicito.requestSiteNavigation(\"' + siteGuid + '\", \"' + destinationGuid + '\");'\r\n",
       "                            }\r\n",
       "                        });\r\n",
       "                    });\r\n",
       "                }\n",
       "            },\n",
       "\n",
       "            requestSiteNavigation: function (siteGuid, destinationGuid) {\n",
       "                let csharpKernel = kernel.root.findKernelByName(\"csharp\");\r\n",
       "                if (!csharpKernel) {\r\n",
       "                    return;\r\n",
       "                }\n",
       "\n",
       "                csharpKernel.send({\r\n",
       "                    commandType: 'SubmitCode',\r\n",
       "                    command: {\r\n",
       "                        code: 'await Slicito.Interactive.InteractiveSession.Global.NavigateSiteToAsync(new(\"' + siteGuid + '\"), new(\"' + destinationGuid + '\"));'\r\n",
       "                    }\r\n",
       "                });\r\n",
       "            },\n",
       "\n",
       "            showSiteContent: function (siteGuid, content) {\n",
       "                let history = getOrCreateSiteState(siteGuid).history;\n",
       "                let backButtonElement = getBackButtonElement(siteGuid);\n",
       "                let siteContentElement = getContentElement(siteGuid);\n",
       "\n",
       "                history.push(siteContentElement.innerHTML);\n",
       "                backButtonElement.removeAttribute(\"style\");\n",
       "\n",
       "                siteContentElement.innerHTML = content;\n",
       "                this.forwardLinksToDotNet(siteGuid);\r\n",
       "            },\n",
       "\n",
       "            showPreviousSiteContent: function (siteGuid) {\n",
       "                let history = getOrCreateSiteState(siteGuid).history;\n",
       "                let backButtonElement = getBackButtonElement(siteGuid);\n",
       "                let siteContentElement = getContentElement(siteGuid);\n",
       "\n",
       "                let content = history.pop();\n",
       "                if (history.length == 0) {\n",
       "                    backButtonElement.setAttribute(\"style\", \"display: none;\");\n",
       "                }\n",
       "\n",
       "                siteContentElement.innerHTML = content;\n",
       "                this.forwardLinksToDotNet(siteGuid);\r\n",
       "            }\r\n",
       "        };\n",
       "    }\r\n",
       "\r\n",
       "})();\r\n",
       "\r\n",
       "window.slicito.forwardLinksToDotNet(\"c13e85f8-dc9f-4a38-8c74-8179e1447852\");\r\n",
       "</script>\r\n"
      ]
     },
     "metadata": {},
     "output_type": "display_data"
    }
   ],
   "source": [
    "using Microsoft.CodeAnalysis;\n",
    "\n",
    "using Slicito.Abstractions.Relations;\n",
    "using Slicito.DotNet.Elements;\n",
    "using Slicito.Presentation;\n",
    "\n",
    "new DefaultContextSiteBuilder(globalContext)\n",
    ".AddRelation(dependencyRelations.InheritsFrom.SetData((SyntaxNode?) null))\n",
    ".Build()"
   ]
  }
 ],
 "metadata": {
  "kernelspec": {
   "display_name": ".NET (C#)",
   "language": "C#",
   "name": ".net-csharp"
  },
  "polyglot_notebook": {
   "kernelInfo": {
    "defaultKernelName": "csharp",
    "items": [
     {
      "aliases": [
       "c#",
       "C#"
      ],
      "languageName": "C#",
      "name": "csharp"
     },
     {
      "aliases": [],
      "name": ".NET"
     },
     {
      "aliases": [
       "f#",
       "F#"
      ],
      "languageName": "F#",
      "name": "fsharp"
     },
     {
      "aliases": [],
      "languageName": "HTML",
      "name": "html"
     },
     {
      "aliases": [],
      "languageName": "KQL",
      "name": "kql"
     },
     {
      "aliases": [],
      "languageName": "Mermaid",
      "name": "mermaid"
     },
     {
      "aliases": [
       "powershell"
      ],
      "languageName": "PowerShell",
      "name": "pwsh"
     },
     {
      "aliases": [],
      "languageName": "SQL",
      "name": "sql"
     },
     {
      "aliases": [],
      "name": "value"
     },
     {
      "aliases": [
       "frontend"
      ],
      "name": "vscode"
     },
     {
      "aliases": [
       "js"
      ],
      "languageName": "JavaScript",
      "name": "javascript"
     },
     {
      "aliases": [],
      "name": "webview"
     }
    ]
   }
  }
 },
 "nbformat": 4,
 "nbformat_minor": 2
}
