{
 "cells": [
  {
   "cell_type": "code",
   "execution_count": null,
   "metadata": {
    "dotnet_interactive": {
     "language": "csharp"
    },
    "vscode": {
     "languageId": "dotnet-interactive.csharp"
    }
   },
   "outputs": [
    {
     "data": {
      "text/html": [
       "<div><div></div><div></div><div><strong>Installed Packages</strong><ul><li><span>AutomaticGraphLayout, 1.1.12</span></li><li><span>AutomaticGraphLayout.Drawing, 1.1.12</span></li><li><span>Microsoft.Build.Locator, 1.4.1</span></li><li><span>Microsoft.CodeAnalysis.Workspaces.MSBuild, 4.2.0</span></li><li><span>System.Drawing.Common, 6.0.0</span></li></ul></div></div>"
      ]
     },
     "metadata": {},
     "output_type": "display_data"
    },
    {
     "data": {
      "text/html": [
       "<?xml version=\"1.0\" encoding=\"utf-8\"?>\r\n",
       "<!--SvgWriter version 1.0.0.0-->\r\n",
       "<svg xmlns:xlink=\"http://www.w3.org/1999/xlink\" width=\"305.87757110596\" height=\"258.65622711182\" id=\"svg2\" version=\"1.1\" xmlns=\"http://www.w3.org/2000/svg\">\r\n",
       "  <g transform=\"translate(-0,258.6562271118164)\">\r\n",
       "    <!--subgraphs-->\r\n",
       "    <rect fill=\"none\" stroke=\"#000000\" stroke-opacity=\"1\" stroke-width=\"1\" x=\"30\" y=\"-182.43748474121\" width=\"183.32548522949\" height=\"23.1093711853\" rx=\"3\" ry=\"3\" />\r\n",
       "    <text x=\"31.5\" y=\"-162.67967542013\" font-family=\"Arial\" font-size=\"16\" fill=\"#000000\">\r\n",
       "      <tspan x=\"31.5\" dy=\"0\">CustomSvgGraphWriter</tspan>\r\n",
       "    </text>\r\n",
       "    <rect fill=\"none\" stroke=\"#000000\" stroke-opacity=\"1\" stroke-width=\"1\" x=\"30\" y=\"-96.21874237061\" width=\"138.60673522949\" height=\"23.1093711853\" rx=\"3\" ry=\"3\" />\r\n",
       "    <text x=\"31.5\" y=\"-76.46093304952\" font-family=\"Arial\" font-size=\"16\" fill=\"#000000\">\r\n",
       "      <tspan x=\"31.5\" dy=\"0\">LayoutOrientation</tspan>\r\n",
       "    </text>\r\n",
       "    <rect fill=\"none\" stroke=\"#000000\" stroke-opacity=\"1\" stroke-width=\"1\" x=\"141.03644561768\" y=\"-53.1093711853\" width=\"134.84112548828\" height=\"23.1093711853\" rx=\"3\" ry=\"3\" />\r\n",
       "    <text x=\"142.53644561768\" y=\"-33.35156186422\" font-family=\"Arial\" font-size=\"16\" fill=\"#000000\">\r\n",
       "      <tspan x=\"142.53644561768\" dy=\"0\">GraphExtensions</tspan>\r\n",
       "    </text>\r\n",
       "    <rect fill=\"none\" stroke=\"#000000\" stroke-opacity=\"1\" stroke-width=\"1\" x=\"30\" y=\"-53.1093711853\" width=\"91.03644561768\" height=\"23.1093711853\" rx=\"3\" ry=\"3\" />\r\n",
       "    <text x=\"31.5\" y=\"-33.35156186422\" font-family=\"Arial\" font-size=\"16\" fill=\"#000000\">\r\n",
       "      <tspan x=\"31.5\" dy=\"0\">RoslynUtils</tspan>\r\n",
       "    </text>\r\n",
       "    <rect fill=\"none\" stroke=\"#000000\" stroke-opacity=\"1\" stroke-width=\"1\" x=\"30\" y=\"-139.32811355591\" width=\"144.09111022949\" height=\"23.1093711853\" rx=\"3\" ry=\"3\" />\r\n",
       "    <text x=\"31.5\" y=\"-119.57030423482\" font-family=\"Arial\" font-size=\"16\" fill=\"#000000\">\r\n",
       "      <tspan x=\"31.5\" dy=\"0\">SymbolExtensions</tspan>\r\n",
       "    </text>\r\n",
       "    <rect fill=\"none\" stroke=\"#000000\" stroke-opacity=\"1\" stroke-width=\"1\" x=\"20\" y=\"-215.54685592651\" width=\"265.87757110596\" height=\"195.54685592651\" rx=\"3\" ry=\"3\" />\r\n",
       "    <text x=\"128.14712333679\" y=\"-195.78904660543\" font-family=\"Arial\" font-size=\"16\" fill=\"#000000\">\r\n",
       "      <tspan x=\"128.14712333679\" dy=\"0\">Slicito</tspan>\r\n",
       "    </text>\r\n",
       "    <rect fill=\"none\" stroke=\"#000000\" stroke-opacity=\"1\" stroke-width=\"1\" x=\"10\" y=\"-248.65622711182\" width=\"285.87757110596\" height=\"238.65622711182\" rx=\"3\" ry=\"3\" />\r\n",
       "    <text x=\"73.77604293823\" y=\"-228.89841779073\" font-family=\"Arial\" font-size=\"16\" fill=\"#000000\">\r\n",
       "      <tspan x=\"73.77604293823\" dy=\"0\">&lt;global namespace&gt;</tspan>\r\n",
       "    </text>\r\n",
       "    <!--end of subgraphs-->\r\n",
       "    <!--Edges-->\r\n",
       "    <!--nodes-->\r\n",
       "    <!--end of nodes-->\r\n",
       "  </g>\r\n",
       "</svg>"
      ]
     },
     "metadata": {},
     "output_type": "display_data"
    }
   ],
   "source": [
    "// In order to execute, compile Slicito.csproj first and then run the following code\n",
    "// (this process will be simplified after Slicito is turned into a NuGet package)\n",
    "#r \"nuget: System.Drawing.Common\"\n",
    "#r \"nuget: Microsoft.Build.Locator\"\n",
    "#r \"nuget: Microsoft.CodeAnalysis.Workspaces.MSBuild, 4.2.0\"\n",
    "#r \"nuget: AutomaticGraphLayout\"\n",
    "#r \"nuget: AutomaticGraphLayout.Drawing\"\n",
    "#r \"..\\..\\src\\Slicito\\bin\\Debug\\net6.0\\Slicito.dll\"\n",
    "\n",
    "using Microsoft.CodeAnalysis;\n",
    "using Microsoft.Msagl.Drawing;\n",
    "using Slicito;\n",
    "\n",
    "// TODO: Replace by a path to your own project\n",
    "var project = await RoslynUtils.OpenProjectAsync(@\"..\\..\\src\\Slicito\\Slicito.csproj\");\n",
    "var compilation = await project.GetCompilationAsync();\n",
    "\n",
    "var graph = new Graph(\"graph\");\n",
    "\n",
    "foreach (var symbol in compilation!.GetSymbolsWithName(_ => true, SymbolFilter.Namespace | SymbolFilter.Type))\n",
    "{\n",
    "    graph.AddSymbolWithHierarchy(symbol);\n",
    "}\n",
    "\n",
    "graph.RenderToSvg(LayoutOrientation.Vertical)"
   ]
  }
 ],
 "metadata": {
  "kernelspec": {
   "display_name": ".NET (C#)",
   "language": "C#",
   "name": ".net-csharp"
  },
  "language_info": {
   "file_extension": ".cs",
   "mimetype": "text/x-csharp",
   "name": "C#",
   "pygments_lexer": "csharp",
   "version": "9.0"
  },
  "orig_nbformat": 4
 },
 "nbformat": 4,
 "nbformat_minor": 2
}
