{
 "cells": [
  {
   "cell_type": "code",
   "execution_count": null,
   "metadata": {
    "dotnet_interactive": {
     "language": "csharp"
    },
    "vscode": {
     "languageId": "dotnet-interactive.csharp"
    }
   },
   "outputs": [],
   "source": [
    "// In order to execute, compile Slicito.csproj first and then run the following code\n",
    "// (this process will be simplified after Slicito is turned into a NuGet package)\n",
    "#r \"nuget: System.Drawing.Common\"\n",
    "#r \"nuget: Microsoft.Build.Locator\"\n",
    "#r \"nuget: Microsoft.CodeAnalysis.Workspaces.MSBuild, 4.2.0\"\n",
    "#r \"nuget: AutomaticGraphLayout\"\n",
    "#r \"nuget: AutomaticGraphLayout.Drawing\"\n",
    "#r \"..\\..\\src\\Slicito\\bin\\Debug\\net6.0\\Slicito.dll\"\n",
    "\n",
    "using Microsoft.CodeAnalysis;\n",
    "using Microsoft.Msagl.Drawing;\n",
    "using Slicito;\n",
    "\n",
    "// TODO: Replace by a path to your own project\n",
    "var project = await RoslynUtils.OpenProjectAsync(@\"..\\..\\src\\Slicito\\Slicito.csproj\");\n",
    "var compilation = await project.GetCompilationAsync();\n",
    "\n",
    "var graph = new Graph(\"graph\");\n",
    "\n",
    "foreach (var symbol in compilation!.GetSymbolsWithName(_ => true, SymbolFilter.Namespace | SymbolFilter.Type))\n",
    "{\n",
    "    graph.AddSymbolWithHierarchy(symbol);\n",
    "}\n",
    "\n",
    "await graph.RenderToSvgAsync(LayoutOrientation.Vertical)"
   ]
  }
 ],
 "metadata": {
  "kernelspec": {
   "display_name": ".NET (C#)",
   "language": "C#",
   "name": ".net-csharp"
  },
  "language_info": {
   "file_extension": ".cs",
   "mimetype": "text/x-csharp",
   "name": "C#",
   "pygments_lexer": "csharp",
   "version": "9.0"
  },
  "orig_nbformat": 4
 },
 "nbformat": 4,
 "nbformat_minor": 2
}
